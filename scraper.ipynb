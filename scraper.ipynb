{
 "cells": [
  {
   "cell_type": "markdown",
   "metadata": {},
   "source": [
    "## Ceneo Scraper"
   ]
  },
  {
   "cell_type": "markdown",
   "metadata": {},
   "source": [
    "## Biblioteki"
   ]
  },
  {
   "cell_type": "code",
   "execution_count": 13,
   "metadata": {},
   "outputs": [],
   "source": [
    "import requests\n",
    "from bs4 import BeautifulSoup"
   ]
  },
  {
   "cell_type": "markdown",
   "metadata": {},
   "source": [
    "### Wysłanie żądania dostępu do zasobu do serwera"
   ]
  },
  {
   "cell_type": "code",
   "execution_count": 14,
   "metadata": {},
   "outputs": [
    {
     "data": {
      "text/plain": [
       "200"
      ]
     },
     "execution_count": 14,
     "metadata": {},
     "output_type": "execute_result"
    }
   ],
   "source": [
    "product_id = \"114700014\"\n",
    "url = f\"https://www.ceneo.pl/{product_id}/opinie-2\"\n",
    "response = requests.get(url)\n",
    "response.status_code"
   ]
  },
  {
   "cell_type": "code",
   "execution_count": 15,
   "metadata": {},
   "outputs": [
    {
     "name": "stdout",
     "output_type": "stream",
     "text": [
      "<class 'bs4.BeautifulSoup'>\n",
      "<class 'bs4.element.ResultSet'>\n",
      "<class 'bs4.element.Tag'>\n",
      "<div class=\"user-post user-post__card js_product-review\" data-entry-id=\"15437754\">\n",
      "<header class=\"user-post__header\">\n",
      "<div class=\"js_lazy user-post__avatar user-rank__avatar\" data-bg=\"/Content/img/account/avatar/7.svg\"></div>\n",
      "</header>\n",
      "<div class=\"user-post__body\">\n",
      "<div class=\"user-post__content\">\n",
      "<span class=\"user-post__author-name\">\n",
      "nemesis wawa</span>\n",
      "<span class=\"user-post__author-recomendation\">\n",
      "<em class=\"recommended\">Polecam</em>\n",
      "</span>\n",
      "<span class=\"user-post__score\">\n",
      "<span class=\"screen-reader-text\">Ocena:</span>\n",
      "<span class=\"score-container score-container--s js_score-container\">\n",
      "<span class=\"score-marker score-marker--s\" style=\"width: 100.00%;\"></span>\n",
      "</span>\n",
      "<span class=\"user-post__score-count\">5/5</span>\n",
      "<span class=\"user-post__published\">\n",
      "        Wystawiono\n",
      "        <time datetime=\"2021-12-28 08:49:18\">3 lata temu, </time>\n",
      "<time datetime=\"2021-12-17 21:01:22\">po 2 tygodniach</time> użytkowania            </span>\n",
      "</span>\n",
      "<div class=\"user-post__text\">Zmiana z v8 zdecydowanie na plus. Dużo lżejszy i zwinniejszy. Opcja pokazywania czasu pozostałego do końca pracy baterii bardzo przydatna. Nie trzeba trzymać przycisku włączania.. Solidne wykonanie. Wart swojej ceny :)</div>\n",
      "<div class=\"review-feature\">\n",
      "<div class=\"review-feature__col\">\n",
      "<div class=\"review-feature__title review-feature__title--positives\">Zalety</div>\n",
      "<div class=\"review-feature__item\">dużo końcówek</div>\n",
      "<div class=\"review-feature__item\">lekki</div>\n",
      "<div class=\"review-feature__item\">poręczny</div>\n",
      "<div class=\"review-feature__item\">przycisk zasilania</div>\n",
      "<div class=\"review-feature__item\">wyświetlacz</div>\n",
      "</div>\n",
      "<div class=\"review-feature__col\">\n",
      "<div class=\"review-feature__title review-feature__title--negatives\">Wady</div>\n",
      "<div class=\"review-feature__item\">brak</div>\n",
      "</div>\n",
      "</div>\n",
      "<div class=\"user-post__bottom\">\n",
      "</div>\n",
      "</div>\n",
      "<div class=\"user-post__info\">\n",
      "<div class=\"d-flex align-items-center justify-content-end\">\n",
      "<div class=\"js_product-review-usefulness vote\">\n",
      "<button class=\"vote-yes js_product-review-vote js_vote-yes\" data-new-icon=\"vote-up\" data-product-id=\"114700014\" data-review-id=\"15437754\" data-total-vote=\"2\" data-url=\"SetOpinionVote\" data-vote=\"1\" data-voted=\"false\"><span id=\"votes-yes-15437754\">2</span></button>\n",
      "<button class=\"vote-no js_product-review-vote js_vote-no\" data-new-icon=\"vote-down\" data-product-id=\"114700014\" data-review-id=\"15437754\" data-total-vote=\"0\" data-url=\"SetOpinionVote\" data-vote=\"0\" data-voted=\"false\"><span id=\"votes-no-15437754\">0</span></button>\n",
      "</div>\n",
      "<div class=\"dropdown-wrapper\">\n",
      "<span class=\"dots-icon-vert\" data-toggle=\"dropdown\"></span>\n",
      "<ul class=\"dropdown-menu force-left\">\n",
      "<li class=\"dropdown-menu__item\" data-product-id=\"114700014\" data-review-id=\"15437754\">\n",
      "<div class=\"js_report-abuse report-abuse cursor-pointer\" data-report-type=\"1\" role=\"button\">\n",
      "<span>\n",
      "Zgłoś    </span>\n",
      "</div>\n",
      "</li>\n",
      "</ul>\n",
      "</div>\n",
      "</div>\n",
      "<div class=\"review-pz\" data-hint=\"Opinia została napisana przez Użytkownika, który kupił produkt.\">\n",
      "<em>Transakcja pochodzi z Marketplace Ceneo (usługi Kup Teraz).</em>\n",
      "</div>\n",
      "</div>\n",
      "<div class=\"js_product-review-comments js_product-review-hook js_product-review-comments-list\" id=\"product-review-comments-15437754\">\n",
      "<a class=\"user-post js_product-review-comment-toggle\" data-comments-count=\"0\" data-product-review-id=\"114700014\" data-review-id=\"15437754\" href=\"#product-review-comment-15437754\" role=\"button\">\n",
      "</a>\n",
      "<div class=\"js_product-review-form-hook\" id=\"product-review-comment-15437754\"></div>\n",
      "</div>\n",
      "</div>\n",
      "</div>\n"
     ]
    }
   ],
   "source": [
    "page_dom = BeautifulSoup(response.text, \"html.parser\")\n",
    "print(type(page_dom))\n",
    "opinions = page_dom.select(\"div.js_product-review\")\n",
    "print(type(opinions))\n",
    "opinion = opinions.pop(0)\n",
    "print(type(opinion))\n",
    "print(opinion)"
   ]
  },
  {
   "cell_type": "markdown",
   "metadata": {},
   "source": [
    "## Ebstrakcja składowych pojedynczej opinii\n",
    "\n",
    "|składowa|selektor|zmienna|\n",
    "|--------|--------|-------|\n",
    "|id opinii|[\"data-entry-id\"]|opinion_id|\n",
    "|autor|span.user-post__author-name|author|\n",
    "|rekomendacje|span.user-post__author-recomendation > em|recommendation|\n",
    "|gwiazdki|span.user-post__score-count|raiting|\n",
    "|treść|div.user-post__text|content|\n",
    "|lista zalet|div.review-feature__title--positives ~ div.review-feature__item|pros|\n",
    "|lista wad|review-feature__title--negatives ~ div.review-feature__item|cons|\n",
    "|dla ilu przydatna|span[id^=\"votes-yes\"]|useful|\n",
    "|dla ilu nieprzydatna|span[id^=\"votes-no\"]|useless|\n",
    "|data wystawienia|span.user-post__published > time:nth-child(1)<[\"datetime\"]|post_date|\n",
    "|data zakupu|span.user-post__published > time:nth-child(2)<[\"datetime\"]|purchase_date|\n",
    "\n"
   ]
  },
  {
   "cell_type": "code",
   "execution_count": 19,
   "metadata": {},
   "outputs": [],
   "source": [
    "opinion_id = opinion[\"[data-entry-id]\"]\n",
    "author = opinion.select_one(\"span.user-post__author-name\")"
   ]
  }
 ],
 "metadata": {
  "kernelspec": {
   "display_name": ".venv",
   "language": "python",
   "name": "python3"
  },
  "language_info": {
   "codemirror_mode": {
    "name": "ipython",
    "version": 3
   },
   "file_extension": ".py",
   "mimetype": "text/x-python",
   "name": "python",
   "nbconvert_exporter": "python",
   "pygments_lexer": "ipython3",
   "version": "3.12.1"
  }
 },
 "nbformat": 4,
 "nbformat_minor": 2
}
